{
 "cells": [
  {
   "cell_type": "markdown",
   "metadata": {},
   "source": [
    "# Working with parquet files\n",
    "\n",
    "## Objective\n",
    "\n",
    "+ In this assignment, we will use the data downloaded with the module `data_manager` to create features.\n",
    "\n",
    "(11 pts total)\n",
    "\n",
    "## Prerequisites\n",
    "\n",
    "+ This notebook assumes that price data is available to you in the environment variable `PRICE_DATA`. If you have not done so, then execute the notebook `01_materials/labs/2_data_engineering.ipynb` to create this data set.\n"
   ]
  },
  {
   "cell_type": "markdown",
   "metadata": {},
   "source": [
    "+ Load the environment variables using dotenv. (1 pt)"
   ]
  },
  {
   "cell_type": "markdown",
   "metadata": {},
   "source": [
    "> [!NOTE]  \n",
    "> Because of computing resources issues, the code contained here uses a sample of 60 items of the entire dataset "
   ]
  },
  {
   "cell_type": "code",
   "execution_count": 2,
   "metadata": {},
   "outputs": [],
   "source": [
    "%load_ext dotenv\n",
    "%dotenv\n",
    "import sys\n",
    "import os\n",
    "sys.path.append(\"../../05_src\")\n",
    "sys.path.append(os.getenv('PRICE_DATA'))"
   ]
  },
  {
   "cell_type": "code",
   "execution_count": 3,
   "metadata": {},
   "outputs": [
    {
     "name": "stderr",
     "output_type": "stream",
     "text": [
      "c:\\Users\\sagra\\.conda\\envs\\dsi_participant\\lib\\site-packages\\dask\\dataframe\\__init__.py:42: FutureWarning: \n",
      "Dask dataframe query planning is disabled because dask-expr is not installed.\n",
      "\n",
      "You can install it with `pip install dask[dataframe]` or `conda install dask`.\n",
      "This will raise in a future version.\n",
      "\n",
      "  warnings.warn(msg, FutureWarning)\n"
     ]
    }
   ],
   "source": [
    "import dask.dataframe as dd"
   ]
  },
  {
   "cell_type": "markdown",
   "metadata": {},
   "source": [
    "+ Load the environment variable `PRICE_DATA`.\n",
    "+ Use [glob](https://docs.python.org/3/library/glob.html) to find the path of all parquet files in the directory `PRICE_DATA`.\n",
    "\n",
    "(1pt)"
   ]
  },
  {
   "cell_type": "code",
   "execution_count": 23,
   "metadata": {},
   "outputs": [
    {
     "name": "stdout",
     "output_type": "stream",
     "text": [
      "8880\n"
     ]
    }
   ],
   "source": [
    "import os\n",
    "from glob import glob\n",
    "\n",
    "import dask.dataframe as dd\n",
    "import pandas as pd\n",
    "from utils.logger import get_logger\n",
    "_logs = get_logger(__name__)\n",
    "\n",
    "PRICE_DATA = os.getenv('PRICE_DATA')\n",
    "\n",
    "price_paths = glob(os.path.join(PRICE_DATA, \"**/**/*.parquet\"), recursive = True)\n",
    "print(len(price_paths))\n",
    "\n",
    "import random\n",
    "random.seed(42)\n",
    "price_paths = random.sample(price_paths, 2_000)"
   ]
  },
  {
   "cell_type": "markdown",
   "metadata": {},
   "source": [
    "For each ticker and using Dask, do the following:\n",
    "\n",
    "+ Add lags for variables Close and Adj_Close.\n",
    "+ Add returns based on Close:\n",
    "    \n",
    "    - `returns`: (Close / Close_lag_1) - 1\n",
    "\n",
    "+ Add the following range: \n",
    "\n",
    "    - `hi_lo_range`: this is the day's High minus Low.\n",
    "\n",
    "+ Assign the result to `dd_feat`.\n",
    "\n",
    "(4 pt)"
   ]
  },
  {
   "cell_type": "code",
   "execution_count": 24,
   "metadata": {},
   "outputs": [
    {
     "name": "stderr",
     "output_type": "stream",
     "text": [
      "C:\\Users\\sagra\\AppData\\Local\\Temp\\ipykernel_16988\\2662748605.py:7: UserWarning: `meta` is not specified, inferred from partial data. Please provide `meta` if the result is unexpected.\n",
      "  Before: .apply(func)\n",
      "  After:  .apply(func, meta={'x': 'f8', 'y': 'f8'}) for dataframe result\n",
      "  or:     .apply(func, meta=('x', 'f8'))            for series result\n",
      "  dd_shift = dd_group.apply(\n"
     ]
    }
   ],
   "source": [
    "# Read all files as one dask DataFrame\n",
    "dd_px = dd.read_parquet(price_paths).set_index(\"ticker\")\n",
    "\n",
    "dd_group = dd_px.groupby('ticker', group_keys=False)\n",
    "\n",
    "# Close\n",
    "dd_shift = dd_group.apply(\n",
    "    lambda x: x.assign(close_lag_1 = x['Close'].shift(1))\n",
    "    )\n",
    "\n",
    "dd_shift = dd_shift.assign(\n",
    "    adj_close_lag_1 = lambda x: x['Adj Close'].shift(1)\n",
    "    )\n",
    "\n",
    "dd_rets = dd_shift.assign(\n",
    "    returns = lambda x: x['Close']/x['close_lag_1'] - 1\n",
    "    )\n",
    "\n",
    "dd_rets = dd_rets.assign(\n",
    "    adj_returns = lambda x: x['Adj Close']/x['adj_close_lag_1'] - 1\n",
    "    )\n",
    "\n",
    "dd_feat = dd_rets.assign(\n",
    "    hi_lo_range = lambda x: x['Close'].max() - x['Close'].min()\n",
    ")\n",
    "\n",
    "dd_feat = dd_feat.assign(\n",
    "    adj_hi_lo_range = lambda x: x['Adj Close'].max() - x['Adj Close'].min()\n",
    ")\n"
   ]
  },
  {
   "cell_type": "markdown",
   "metadata": {},
   "source": [
    "+ Convert the Dask data frame to a pandas data frame. \n",
    "+ Add a new feature containing the moving average of `returns` using a window of 10 days. There are several ways to solve this task, a simple one uses `.rolling(10).mean()`.\n",
    "\n",
    "(3 pt)"
   ]
  },
  {
   "cell_type": "code",
   "execution_count": null,
   "metadata": {},
   "outputs": [
    {
     "name": "stderr",
     "output_type": "stream",
     "text": [
      "2025-06-08 23:10:55,880, 72333521.py, 12, INFO, Dask DataFrame New feature: 1.380e-02\n"
     ]
    }
   ],
   "source": [
    "# SKIP THIS CELL\n",
    "# CODE CORRESPONDING TO THE ABOVE BULLET-POINT LIST IS GIVEN IN THE NEXT CELL\n",
    "\n",
    "import time\n",
    "\n",
    "\n",
    "# New feature on Dask (before converting to pd.DataFrame)\n",
    "start_0 = time.time()\n",
    "dd_feat.assign(\n",
    "    avg_10 = lambda x: x['returns'].rolling(10).mean()\n",
    "    )\n",
    "end_0 = time.time()\n",
    "\n",
    "_logs.info('Dask DataFrame New feature: {:.3e}'.format(end_0-start_0))"
   ]
  },
  {
   "cell_type": "code",
   "execution_count": 26,
   "metadata": {},
   "outputs": [
    {
     "data": {
      "text/html": [
       "<div>\n",
       "<style scoped>\n",
       "    .dataframe tbody tr th:only-of-type {\n",
       "        vertical-align: middle;\n",
       "    }\n",
       "\n",
       "    .dataframe tbody tr th {\n",
       "        vertical-align: top;\n",
       "    }\n",
       "\n",
       "    .dataframe thead th {\n",
       "        text-align: right;\n",
       "    }\n",
       "</style>\n",
       "<table border=\"1\" class=\"dataframe\">\n",
       "  <thead>\n",
       "    <tr style=\"text-align: right;\">\n",
       "      <th></th>\n",
       "      <th>Date</th>\n",
       "      <th>Open</th>\n",
       "      <th>High</th>\n",
       "      <th>Low</th>\n",
       "      <th>Close</th>\n",
       "      <th>Adj Close</th>\n",
       "      <th>Volume</th>\n",
       "      <th>source</th>\n",
       "      <th>Year</th>\n",
       "      <th>close_lag_1</th>\n",
       "      <th>adj_close_lag_1</th>\n",
       "      <th>returns</th>\n",
       "      <th>adj_returns</th>\n",
       "      <th>hi_lo_range</th>\n",
       "      <th>adj_hi_lo_range</th>\n",
       "      <th>avg_10</th>\n",
       "      <th>adj_avg_10</th>\n",
       "    </tr>\n",
       "    <tr>\n",
       "      <th>ticker</th>\n",
       "      <th></th>\n",
       "      <th></th>\n",
       "      <th></th>\n",
       "      <th></th>\n",
       "      <th></th>\n",
       "      <th></th>\n",
       "      <th></th>\n",
       "      <th></th>\n",
       "      <th></th>\n",
       "      <th></th>\n",
       "      <th></th>\n",
       "      <th></th>\n",
       "      <th></th>\n",
       "      <th></th>\n",
       "      <th></th>\n",
       "      <th></th>\n",
       "      <th></th>\n",
       "    </tr>\n",
       "  </thead>\n",
       "  <tbody>\n",
       "    <tr>\n",
       "      <th>ACN</th>\n",
       "      <td>2002-07-03</td>\n",
       "      <td>16.889999</td>\n",
       "      <td>17.750000</td>\n",
       "      <td>16.040001</td>\n",
       "      <td>17.50</td>\n",
       "      <td>13.156021</td>\n",
       "      <td>3582400.0</td>\n",
       "      <td>ACN.csv</td>\n",
       "      <td>2002</td>\n",
       "      <td>NaN</td>\n",
       "      <td>NaN</td>\n",
       "      <td>NaN</td>\n",
       "      <td>NaN</td>\n",
       "      <td>1966.7754</td>\n",
       "      <td>1966.784554</td>\n",
       "      <td>NaN</td>\n",
       "      <td>NaN</td>\n",
       "    </tr>\n",
       "    <tr>\n",
       "      <th>ACN</th>\n",
       "      <td>2002-07-05</td>\n",
       "      <td>17.799999</td>\n",
       "      <td>18.299999</td>\n",
       "      <td>17.719999</td>\n",
       "      <td>17.90</td>\n",
       "      <td>13.456730</td>\n",
       "      <td>1190200.0</td>\n",
       "      <td>ACN.csv</td>\n",
       "      <td>2002</td>\n",
       "      <td>17.5</td>\n",
       "      <td>13.156021</td>\n",
       "      <td>0.022857</td>\n",
       "      <td>0.022857</td>\n",
       "      <td>1966.7754</td>\n",
       "      <td>1966.784554</td>\n",
       "      <td>NaN</td>\n",
       "      <td>NaN</td>\n",
       "    </tr>\n",
       "    <tr>\n",
       "      <th>ACN</th>\n",
       "      <td>2002-07-08</td>\n",
       "      <td>17.700001</td>\n",
       "      <td>17.750000</td>\n",
       "      <td>17.150000</td>\n",
       "      <td>17.57</td>\n",
       "      <td>13.208645</td>\n",
       "      <td>5472700.0</td>\n",
       "      <td>ACN.csv</td>\n",
       "      <td>2002</td>\n",
       "      <td>17.9</td>\n",
       "      <td>13.456730</td>\n",
       "      <td>-0.018436</td>\n",
       "      <td>-0.018436</td>\n",
       "      <td>1966.7754</td>\n",
       "      <td>1966.784554</td>\n",
       "      <td>NaN</td>\n",
       "      <td>NaN</td>\n",
       "    </tr>\n",
       "  </tbody>\n",
       "</table>\n",
       "</div>"
      ],
      "text/plain": [
       "             Date       Open       High        Low  Close  Adj Close  \\\n",
       "ticker                                                                 \n",
       "ACN    2002-07-03  16.889999  17.750000  16.040001  17.50  13.156021   \n",
       "ACN    2002-07-05  17.799999  18.299999  17.719999  17.90  13.456730   \n",
       "ACN    2002-07-08  17.700001  17.750000  17.150000  17.57  13.208645   \n",
       "\n",
       "           Volume   source  Year  close_lag_1  adj_close_lag_1   returns  \\\n",
       "ticker                                                                     \n",
       "ACN     3582400.0  ACN.csv  2002          NaN              NaN       NaN   \n",
       "ACN     1190200.0  ACN.csv  2002         17.5        13.156021  0.022857   \n",
       "ACN     5472700.0  ACN.csv  2002         17.9        13.456730 -0.018436   \n",
       "\n",
       "        adj_returns  hi_lo_range  adj_hi_lo_range  avg_10  adj_avg_10  \n",
       "ticker                                                                 \n",
       "ACN             NaN    1966.7754      1966.784554     NaN         NaN  \n",
       "ACN        0.022857    1966.7754      1966.784554     NaN         NaN  \n",
       "ACN       -0.018436    1966.7754      1966.784554     NaN         NaN  "
      ]
     },
     "metadata": {},
     "output_type": "display_data"
    },
    {
     "name": "stderr",
     "output_type": "stream",
     "text": [
      "2025-06-08 23:13:19,386, 2796368945.py, 19, INFO, Dask or pd.DataFrame after rolling: <class 'pandas.core.frame.DataFrame'>\n",
      "2025-06-08 23:13:19,387, 2796368945.py, 20, INFO, Conversion time: 13.59 New feature: 3.091e-02\n"
     ]
    }
   ],
   "source": [
    "# Convert to pd.DataFrame\n",
    "start_1 = time.time()\n",
    "pd_feat = dd_feat.compute()\n",
    "end_1 = time.time()\n",
    "\n",
    "# New feature\n",
    "start_2 = time.time()\n",
    "\n",
    "pd_feat = pd_feat.assign(\n",
    "    avg_10 = lambda x: x['returns'].rolling(10).mean()\n",
    "    )\n",
    "\n",
    "end_2 = time.time()\n",
    "\n",
    "pd_feat = pd_feat.assign(adj_avg_10 = lambda x: x['adj_returns'].rolling(10).mean())\n",
    "\n",
    "\n",
    "display(pd_feat.head(3))\n",
    "_logs.info('Dask or pd.DataFrame after rolling: {}'.format(type(pd_feat)))\n",
    "_logs.info('Conversion time: {:.2f} New feature: {:.3e}'.format(end_1-start_1, end_2-start_2))"
   ]
  },
  {
   "cell_type": "markdown",
   "metadata": {},
   "source": [
    "Please comment:\n",
    "\n",
    "+ Was it necessary to convert to pandas to calculate the moving average return?\n",
    "+ Would it have been better to do it in Dask? Why?\n",
    "\n",
    "(1 pt)"
   ]
  },
  {
   "cell_type": "markdown",
   "metadata": {},
   "source": [
    "> - [1] No. The moving average return could have been obtained without transforming the data.\n",
    ">\n",
    "> - [2] Indeed, the transformation and subsequent feature obtention has added computing cost to the entire process:\n",
    ">   - Benefits from Dask distributed computing are not being used anymore\n",
    ">   - The computing time of obtaining the rolling feature by using a pd.DataFrame is larger than if dask had been used"
   ]
  },
  {
   "cell_type": "markdown",
   "metadata": {},
   "source": [
    "## Criteria\n",
    "\n",
    "The [rubric](./assignment_1_rubric_clean.xlsx) contains the criteria for grading."
   ]
  },
  {
   "cell_type": "markdown",
   "metadata": {},
   "source": [
    "## Submission Information\n",
    "\n",
    "🚨 **Please review our [Assignment Submission Guide](https://github.com/UofT-DSI/onboarding/blob/main/onboarding_documents/submissions.md)** 🚨 for detailed instructions on how to format, branch, and submit your work. Following these guidelines is crucial for your submissions to be evaluated correctly.\n",
    "\n",
    "### Submission Parameters:\n",
    "* Submission Due Date: `HH:MM AM/PM - DD/MM/YYYY`\n",
    "* The branch name for your repo should be: `assignment-1`\n",
    "* What to submit for this assignment:\n",
    "    * This Jupyter Notebook (assignment_1.ipynb) should be populated and should be the only change in your pull request.\n",
    "* What the pull request link should look like for this assignment: `https://github.com/<your_github_username>/production/pull/<pr_id>`\n",
    "    * Open a private window in your browser. Copy and paste the link to your pull request into the address bar. Make sure you can see your pull request properly. This helps the technical facilitator and learning support staff review your submission easily.\n",
    "\n",
    "Checklist:\n",
    "- [ ] Created a branch with the correct naming convention.\n",
    "- [ ] Ensured that the repository is public.\n",
    "- [ ] Reviewed the PR description guidelines and adhered to them.\n",
    "- [ ] Verify that the link is accessible in a private browser window.\n",
    "\n",
    "If you encounter any difficulties or have questions, please don't hesitate to reach out to our team via our Slack at `#cohort-3-help`. Our Technical Facilitators and Learning Support staff are here to help you navigate any challenges."
   ]
  }
 ],
 "metadata": {
  "kernelspec": {
   "display_name": "Python 3",
   "language": "python",
   "name": "python3"
  },
  "language_info": {
   "codemirror_mode": {
    "name": "ipython",
    "version": 3
   },
   "file_extension": ".py",
   "mimetype": "text/x-python",
   "name": "python",
   "nbconvert_exporter": "python",
   "pygments_lexer": "ipython3",
   "version": "3.9.21"
  }
 },
 "nbformat": 4,
 "nbformat_minor": 2
}
